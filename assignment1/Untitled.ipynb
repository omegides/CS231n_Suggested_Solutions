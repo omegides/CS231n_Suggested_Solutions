{
 "cells": [
  {
   "cell_type": "code",
   "execution_count": 1,
   "metadata": {},
   "outputs": [],
   "source": [
    "import numpy as np"
   ]
  },
  {
   "cell_type": "code",
   "execution_count": 24,
   "metadata": {},
   "outputs": [
    {
     "name": "stdout",
     "output_type": "stream",
     "text": [
      "dot:\n",
      " [[ 3  4]\n",
      " [ 7 10]]\n",
      "matmul:\n",
      " [[ 3  4]\n",
      " [ 7 10]]\n",
      "A.dot(c)\n",
      " [ 5 11]\n",
      "c.dot(A)\n",
      " [ 7 10]\n",
      "matmul(A,c)\n",
      " [ 5 11]\n",
      "matmul(c,A)\n",
      " [ 7 10]\n",
      "d.T.dot(c)\n",
      " 6\n",
      "c.dot(d.T)\n",
      " 6\n",
      "matmul(d.T,c)\n",
      " 6\n",
      "matmul(c,d.T)\n",
      " 6\n",
      "d.T.dot(c)\n",
      " [ 5 11]\n",
      "c.dot(d.T)\n",
      " [ 7 10]\n"
     ]
    },
    {
     "ename": "ValueError",
     "evalue": "matmul: Input operand 1 has a mismatch in its core dimension 0, with gufunc signature (n?,k),(k,m?)->(n?,m?) (size 2 is different from 1)",
     "output_type": "error",
     "traceback": [
      "\u001b[1;31m---------------------------------------------------------------------------\u001b[0m",
      "\u001b[1;31mValueError\u001b[0m                                Traceback (most recent call last)",
      "\u001b[1;32m<ipython-input-24-dc86f7702268>\u001b[0m in \u001b[0;36m<module>\u001b[1;34m\u001b[0m\n\u001b[0;32m     29\u001b[0m \u001b[0mprint\u001b[0m\u001b[1;33m(\u001b[0m\u001b[1;34m'c.dot(d.T)\\n'\u001b[0m\u001b[1;33m,\u001b[0m \u001b[0mc\u001b[0m\u001b[1;33m.\u001b[0m\u001b[0mT\u001b[0m\u001b[1;33m.\u001b[0m\u001b[0mdot\u001b[0m\u001b[1;33m(\u001b[0m\u001b[0mA\u001b[0m\u001b[1;33m)\u001b[0m\u001b[1;33m)\u001b[0m\u001b[1;33m\u001b[0m\u001b[1;33m\u001b[0m\u001b[0m\n\u001b[0;32m     30\u001b[0m \u001b[1;33m\u001b[0m\u001b[0m\n\u001b[1;32m---> 31\u001b[1;33m \u001b[0mprint\u001b[0m\u001b[1;33m(\u001b[0m\u001b[1;34m'matmul(d.T,c)\\n'\u001b[0m\u001b[1;33m,\u001b[0m \u001b[0mnp\u001b[0m\u001b[1;33m.\u001b[0m\u001b[0mmatmul\u001b[0m\u001b[1;33m(\u001b[0m\u001b[0mA\u001b[0m\u001b[1;33m.\u001b[0m\u001b[0mreshape\u001b[0m\u001b[1;33m(\u001b[0m\u001b[1;33m-\u001b[0m\u001b[1;36m1\u001b[0m\u001b[1;33m,\u001b[0m\u001b[1;36m1\u001b[0m\u001b[1;33m)\u001b[0m\u001b[1;33m,\u001b[0m\u001b[0mc\u001b[0m\u001b[1;33m.\u001b[0m\u001b[0mT\u001b[0m\u001b[1;33m)\u001b[0m\u001b[1;33m)\u001b[0m\u001b[1;33m\u001b[0m\u001b[1;33m\u001b[0m\u001b[0m\n\u001b[0m\u001b[0;32m     32\u001b[0m \u001b[0mprint\u001b[0m\u001b[1;33m(\u001b[0m\u001b[1;34m'matmul(c,d.T)\\n'\u001b[0m\u001b[1;33m,\u001b[0m \u001b[0mnp\u001b[0m\u001b[1;33m.\u001b[0m\u001b[0mmatmul\u001b[0m\u001b[1;33m(\u001b[0m\u001b[0mc\u001b[0m\u001b[1;33m.\u001b[0m\u001b[0mT\u001b[0m\u001b[1;33m,\u001b[0m\u001b[0mA\u001b[0m\u001b[1;33m)\u001b[0m\u001b[1;33m)\u001b[0m\u001b[1;33m\u001b[0m\u001b[1;33m\u001b[0m\u001b[0m\n",
      "\u001b[1;31mValueError\u001b[0m: matmul: Input operand 1 has a mismatch in its core dimension 0, with gufunc signature (n?,k),(k,m?)->(n?,m?) (size 2 is different from 1)"
     ]
    }
   ],
   "source": [
    "A = np.array([[1, 2], [3, 4]])\n",
    "B = np.array([[1, 2], [1, 1]])\n",
    "\n",
    "print('dot:\\n', A.dot(B)) # matrix multiplication\n",
    "print('matmul:\\n', np.matmul(A,B))\n",
    "c = np.array([1, 2])\n",
    "d = np.array([2, 2])\n",
    "\n",
    "print('A.dot(c)\\n', A.dot(c))\n",
    "print('c.dot(A)\\n', c.dot(A))\n",
    "\n",
    "print('matmul(A,c)\\n', np.matmul(A,c))\n",
    "print('matmul(c,A)\\n', np.matmul(c,A))\n",
    "\n",
    "X = np.array([1])\n",
    "# print('A.dot(X)\\n', A.dot(X))\n",
    "# print('X.dot(A)\\n', X.dot(A))\n",
    "\n",
    "# print('matmul(A,X)\\n', np.matmul(A,X))\n",
    "# print('matmul(X,A)\\n', np.matmul(X,A))\n",
    "\n",
    "print('d.T.dot(c)\\n', d.T.dot(c))\n",
    "print('c.dot(d.T)\\n', c.dot(d.T))\n",
    "\n",
    "print('matmul(d.T,c)\\n', np.matmul(d.T,c))\n",
    "print('matmul(c,d.T)\\n', np.matmul(c,d.T))\n",
    "\n",
    "print('d.T.dot(c)\\n', A.dot(c.T))\n",
    "print('c.dot(d.T)\\n', c.T.dot(A))\n",
    "\n",
    "print('matmul(d.T,c)\\n', np.matmul(A.reshape(-1,1),c.T))\n",
    "print('matmul(c,d.T)\\n', np.matmul(c.T,A))\n"
   ]
  },
  {
   "cell_type": "code",
   "execution_count": null,
   "metadata": {},
   "outputs": [],
   "source": []
  }
 ],
 "metadata": {
  "kernelspec": {
   "display_name": "Python 3",
   "language": "python",
   "name": "python3"
  },
  "language_info": {
   "codemirror_mode": {
    "name": "ipython",
    "version": 3
   },
   "file_extension": ".py",
   "mimetype": "text/x-python",
   "name": "python",
   "nbconvert_exporter": "python",
   "pygments_lexer": "ipython3",
   "version": "3.7.7"
  }
 },
 "nbformat": 4,
 "nbformat_minor": 2
}
